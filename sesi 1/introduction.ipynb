{
 "cells": [
  {
   "attachments": {},
   "cell_type": "markdown",
   "metadata": {},
   "source": [
    "## Cara menginstall python di windows\n",
    "\n",
    "### Buka Terminal atau Command Prompt\n",
    "kebanyakan para developer di luar negeri menyebutnya _Terminal_\n",
    "\n",
    "#### Ikuti instruksi berikut ini\n",
    "- Cari aplikasi __Command Prompt__.\n",
    "- Buka aplikasi __Command Prompt__ nya\n",
    "\n",
    "Setelah di buka akan tampil window/aplikasi seperti ini\n",
    "![alt text](assets/contoh_terminal.png \"Buka Terminal\")\n",
    "\n",
    "Setelah itu ketikkan `python` dalam terminal tersebut lalu pencet tombol _Enter_\n",
    "![alt text](assets/contoh_terminal_python.png \"Tulis Python\")\n",
    "\n",
    "Setelah itu akan terbuka aplikasi untuk menginstall python\n",
    "Klik tombol __Get__ lalu aplikasi python akan terbuka"
   ]
  }
 ],
 "metadata": {
  "kernelspec": {
   "display_name": "Python 3",
   "language": "python",
   "name": "python3"
  },
  "language_info": {
   "name": "python",
   "version": "3.11.1 (main, Jan 25 2023, 11:22:48) [Clang 12.0.0 (clang-1200.0.32.29)]"
  },
  "orig_nbformat": 4,
  "vscode": {
   "interpreter": {
    "hash": "1a1af0ee75eeea9e2e1ee996c87e7a2b11a0bebd85af04bb136d915cefc0abce"
   }
  }
 },
 "nbformat": 4,
 "nbformat_minor": 2
}
