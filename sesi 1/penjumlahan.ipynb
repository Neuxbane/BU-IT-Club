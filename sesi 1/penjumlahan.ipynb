{
 "cells": [
  {
   "attachments": {},
   "cell_type": "markdown",
   "metadata": {},
   "source": [
    "## Membuat algoritma penjumlahan sederhana\n",
    "\n",
    "### Hal yang kita perlukan antara lain\n",
    "- [Cara mengeluarkan __Output__ ke __Variable__](#Mengeluarkan-output-ke-Terminal)\n",
    "- [Cara mendapatkan __Input__ dari __Terminal__](#mendapatkan-input-dari-terminal)\n",
    "- [String](#string)\n",
    "- [Integer](#integer)\n",
    "- [Array](#array)\n",
    "- [For Loop](#for-loop)\n",
    "\n",
    "Note 1: Click tombol yang bergambar seperti <span style=\"color:#af7\">play button</span> <img src=\"assets/play.png\" alt=\" Alt text\" title=\"Title text\" /> untuk menjalankan program python.\n",
    "\n",
    "Note 2: Biasanya developer menggunakan kata <span style=\"color:#af7\">run</span> yang berarti menjalankan program (bukan lari :v)"
   ]
  },
  {
   "attachments": {},
   "cell_type": "markdown",
   "metadata": {},
   "source": [
    "### Mengeluarkan output ke Terminal\n",
    "Dalam python cara untuk mengeluarkan output atau bahasa lainnya <span style=\"color:#af7\">nge-print</span> dapat dilakukan seperti di bawah ini:"
   ]
  },
  {
   "cell_type": "code",
   "execution_count": null,
   "metadata": {},
   "outputs": [],
   "source": [
    "print(\"Hello world\") # Output: Hello world\n",
    "\n",
    "print(1+1) # Output: 2\n",
    "\n",
    "print('Hello'+'World') # Output: HelloWorld\n",
    "\n",
    "print(\"Hello\", 'World', \"A\",'B',2,3,\"c\",[],{},()) # Output: Hello World A B 2 3 c [] {} ()"
   ]
  },
  {
   "attachments": {},
   "cell_type": "markdown",
   "metadata": {},
   "source": [
    "### Mendapatkan Input dari Terminal\n",
    "\n",
    "___Variable___ `args` digunakan untuk menyimpan input\n",
    "Note: nama ___variable___ bebas. di case dibawah saya menggunakan nama `args`\n",
    "\n",
    "\n",
    "Setelah di run akan tampil seperti pada gambar di bawah:\n",
    "\n",
    "![alt text](assets/input.png \"input Python\")\n",
    "\n",
    "\n",
    "Lalu ketikkan tulisan apa saja yang akan dijaidkan input dan dimasukan kedalam program\n",
    "\n",
    "![alt text](assets/input_text.png \"input Python\")\n",
    "\n",
    "Output program akan seperti ini dengan input seperti itu\n",
    "\n",
    "![alt text](assets/output.png \"Hasil Python\")\n",
    "\n",
    "\n",
    "\n",
    "\n",
    "Kalian bisa mencobanya dengan code di bawah ini!"
   ]
  },
  {
   "cell_type": "code",
   "execution_count": null,
   "metadata": {},
   "outputs": [],
   "source": [
    "args = input(\"Masukan input: \")\n",
    "\n",
    "print(args)"
   ]
  },
  {
   "attachments": {},
   "cell_type": "markdown",
   "metadata": {},
   "source": [
    "### String\n",
    "String atau `str` dalam python dapat ditulis `\"text\"`(petik dua \" ) ataupun `'text'`(petik satu ' ) ataupun `\"\"\"text\"\"\"`(petik dua \" ada 3)  ataupun `'''text'''`(petik satu ' ada 3).\n",
    "\n",
    "semuanya sama-sama `string` namun untuk yang petiknya ada 3 bedanya bisa enter\n",
    "\n",
    "Dalam pemrograman (hampir semua bahasa pemrograman), untuk menuliskan enter dalam program kita menggunakan `\\n` yang berarti <span style=\"color:#af7\">New line</span> "
   ]
  },
  {
   "cell_type": "code",
   "execution_count": null,
   "metadata": {},
   "outputs": [],
   "source": [
    "print('Hello world\\nThis is me')\n",
    "print()\n",
    "\n",
    "print(\"Hello world\\nThis is me\")\n",
    "print()\n",
    "\n",
    "print(\"\"\"Hello world\n",
    "This is me\"\"\")\n",
    "print()\n",
    "\n",
    "print('''Hello world\n",
    "This is me''')\n",
    "\n",
    "\n",
    "print(\"1234\".split(''))\n",
    "print(\"1 2 3 4\".split(' '))\n",
    "print(\"1+2+3+4\".split('+'))"
   ]
  },
  {
   "attachments": {},
   "cell_type": "markdown",
   "metadata": {},
   "source": [
    "### Integer\n",
    "Int atau Integer dalam python adalah sebuah angka bulat\n",
    "fungsi `int(...)` digunakan untuk mengkonversi ke bilangan bulat\n",
    "\n",
    "untuk konversi ke bilangan desimal dapat menggunakan `float(...)`"
   ]
  },
  {
   "cell_type": "code",
   "execution_count": null,
   "metadata": {},
   "outputs": [],
   "source": [
    "bilangan_desimal = 4.332293817208723\n",
    "\n",
    "bilangan_bulat = int(bilangan_desimal)\n",
    "\n",
    "print(bilangan_bulat) # 4\n",
    "print(bilangan_desimal) # 4.332293817208723"
   ]
  },
  {
   "attachments": {},
   "cell_type": "markdown",
   "metadata": {},
   "source": [
    "### Array\n",
    "Array merupakan sebuah list seperti matrix yang berisi elemen-elemen.\n",
    "\n",
    "- Array Kosong: `[]`.\n",
    "- Array berisi integer: `[1, 2, 3, 4]`.\n",
    "- Array berisi Array kosong: `[[],[],[]]` or `[[]]`.\n",
    "- Array berisi Array yang berisi integer: `[[1, 2], [4, 2], [5, 2], [4, 2]]`.\n",
    "- Array berisi <span style=\"color:#af7\">any</span> atau apa saja: `[1, 'satu', [\"One\"], input, sum]` \n",
    "\n",
    "\n",
    "Untuk mengambil value element dari array dapat menggunakan `[posisi]`.\n",
    "ingat: index array dimulai dari 0\n"
   ]
  },
  {
   "cell_type": "code",
   "execution_count": null,
   "metadata": {},
   "outputs": [],
   "source": [
    "a = [1, 2, 3, 4]\n",
    "print(a)\n",
    "\n",
    "print()\n",
    "\n",
    "print(a[0])\n",
    "\n",
    "print(a[1])\n",
    "\n",
    "print(a[2])\n",
    "\n",
    "print(a[3])"
   ]
  },
  {
   "attachments": {},
   "cell_type": "markdown",
   "metadata": {},
   "source": [
    "### For Loop\n",
    "For Loop adalah fungsi logika pemrograman dasar untuk mengulangi sebuah code didalam pengulangan (for loop)\n",
    "\n",
    "polanya adalah:\n",
    "```py\n",
    "for <nama Variable> in <list atau range(...) atau str>:\n",
    "\t# code\n",
    "\tpass\n",
    "```\n"
   ]
  },
  {
   "cell_type": "code",
   "execution_count": null,
   "metadata": {},
   "outputs": [],
   "source": [
    "for i in [0,1,2,3]:\n",
    "    print(i)\n",
    "print()\n",
    "\n",
    "for x in range(4):\n",
    "    print(x)\n",
    "print()\n",
    "\n",
    "for x in \"Hello World\":\n",
    "    print(x)"
   ]
  },
  {
   "attachments": {},
   "cell_type": "markdown",
   "metadata": {},
   "source": [
    "### Codenya"
   ]
  },
  {
   "cell_type": "code",
   "execution_count": null,
   "metadata": {},
   "outputs": [],
   "source": [
    "\"\"\"\n",
    "Fungsi penjumlahan sederhana\n",
    "\n",
    "Example Input:\n",
    "1 2 3\n",
    "\n",
    "Example Output:\n",
    "6\n",
    "\"\"\"\n",
    "\n",
    "inp = input(\"Angka yang akan dijumlah:\\n> \").split(' ')\n",
    "penjumlah = 0\n",
    "for i in inp:\n",
    "    i = int(i)\n",
    "    penjumlah = penjumlah + i\n",
    "    \n",
    "print(penjumlah)"
   ]
  },
  {
   "cell_type": "code",
   "execution_count": null,
   "metadata": {},
   "outputs": [],
   "source": [
    "\"\"\"\n",
    "Versi ringkasnya\n",
    "\"\"\"\n",
    "\n",
    "print(sum(int(x) for x in input(\"Angka yang akan dijumlah:\\n> \").split(' ')))"
   ]
  }
 ],
 "metadata": {
  "kernelspec": {
   "display_name": "Python 3",
   "language": "python",
   "name": "python3"
  },
  "language_info": {
   "codemirror_mode": {
    "name": "ipython",
    "version": 3
   },
   "file_extension": ".py",
   "mimetype": "text/x-python",
   "name": "python",
   "nbconvert_exporter": "python",
   "pygments_lexer": "ipython3",
   "version": "3.11.1"
  },
  "orig_nbformat": 4,
  "vscode": {
   "interpreter": {
    "hash": "1a1af0ee75eeea9e2e1ee996c87e7a2b11a0bebd85af04bb136d915cefc0abce"
   }
  }
 },
 "nbformat": 4,
 "nbformat_minor": 2
}
